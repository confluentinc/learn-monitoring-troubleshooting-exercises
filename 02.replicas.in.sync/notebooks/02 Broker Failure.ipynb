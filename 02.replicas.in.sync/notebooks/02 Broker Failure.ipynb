{
 "cells": [
  {
   "cell_type": "markdown",
   "id": "d3bf59a1-0ce8-4ecc-80b4-38c8469ffdd3",
   "metadata": {},
   "source": [
    "## Impact of Broker failure"
   ]
  },
  {
   "cell_type": "markdown",
   "id": "77829ea5-99b1-4655-aa54-5b4c6fe541f9",
   "metadata": {},
   "source": [
    "#### See how the topics are currently set up. Leader, Replicas, ISRs"
   ]
  },
  {
   "cell_type": "code",
   "execution_count": null,
   "id": "e5b31b73-b120-4482-95d8-12cf451350e5",
   "metadata": {},
   "outputs": [],
   "source": [
    "! kafka-topics.sh --bootstrap-server=kafka1:9092 \\\n",
    "                  --describe"
   ]
  },
  {
   "cell_type": "markdown",
   "id": "c39586ca-3f66-4be2-bea9-335f42ec7bbf",
   "metadata": {},
   "source": [
    "#### Kill Broker 2"
   ]
  },
  {
   "cell_type": "code",
   "execution_count": null,
   "id": "20a1b323-1e33-4dc1-81ae-934d11486e0e",
   "metadata": {},
   "outputs": [],
   "source": [
    "! docker kill $(docker ps | grep kafka2 | awk '{print $1}')"
   ]
  },
  {
   "cell_type": "markdown",
   "id": "2b8a1074-8562-4aa9-9113-371836d79992",
   "metadata": {},
   "source": [
    "#### See how the topics are changed. Leader, Replicas, ISRs"
   ]
  },
  {
   "cell_type": "code",
   "execution_count": null,
   "id": "c0c3037d-a737-4492-a7a1-0fdd9cccd96d",
   "metadata": {},
   "outputs": [],
   "source": [
    "! kafka-topics.sh --bootstrap-server=kafka1:9092 \\\n",
    "                  --describe"
   ]
  },
  {
   "cell_type": "markdown",
   "id": "3d94742d-7566-45a6-9191-b9f50a211e48",
   "metadata": {},
   "source": [
    "#### Run the same traffic and check metrics and logs"
   ]
  },
  {
   "cell_type": "code",
   "execution_count": null,
   "id": "3594e0a3-8f3d-41f6-97de-37d6fd22f459",
   "metadata": {},
   "outputs": [],
   "source": [
    "! kafka-producer-perf-test.sh --producer-props bootstrap.servers=kafka1:9092 \\\n",
    "                              --topic test-topic \\\n",
    "                              --num-records 600000  \\\n",
    "                              --record-size  8192 \\\n",
    "                              --throughput 2000"
   ]
  }
 ],
 "metadata": {
  "kernelspec": {
   "display_name": "Python 3 (ipykernel)",
   "language": "python",
   "name": "python3"
  },
  "language_info": {
   "codemirror_mode": {
    "name": "ipython",
    "version": 3
   },
   "file_extension": ".py",
   "mimetype": "text/x-python",
   "name": "python",
   "nbconvert_exporter": "python",
   "pygments_lexer": "ipython3",
   "version": "3.11.6"
  }
 },
 "nbformat": 4,
 "nbformat_minor": 5
}
