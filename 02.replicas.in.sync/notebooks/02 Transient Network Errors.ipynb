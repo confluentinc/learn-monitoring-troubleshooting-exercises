{
 "cells": [
  {
   "cell_type": "markdown",
   "id": "960cd1a7-2d48-4bd6-b9e8-65ede99acfe9",
   "metadata": {},
   "source": [
    "## Simulate a network with random latency"
   ]
  },
  {
   "cell_type": "markdown",
   "id": "1c51d431-562d-4279-ad02-a741d82b26d6",
   "metadata": {},
   "source": [
    "#### Add 200 - 300 ms latency to network on Kafka2"
   ]
  },
  {
   "cell_type": "markdown",
   "id": "f7911280-a868-4deb-898f-174ced903256",
   "metadata": {},
   "source": [
    "This needs to be run in your host environment that is running the docker containers\n",
    "```\n",
    "docker exec -u root \\\n",
    "  $(docker ps | grep kafka2 | awk '{print $1}') \\\n",
    "  tc qdisc add dev eth0 root netem delay 250ms 50ms distribution normal\n",
    "```"
   ]
  },
  {
   "cell_type": "markdown",
   "id": "2c390adb-f918-4d69-a8a6-5db4c3e5afed",
   "metadata": {},
   "source": [
    "Lets run some data through the system"
   ]
  },
  {
   "cell_type": "code",
   "execution_count": null,
   "id": "e9a03d52-e7e1-4206-a803-538236645e42",
   "metadata": {},
   "outputs": [],
   "source": [
    "! kafka-producer-perf-test.sh --producer-props bootstrap.servers=kafka1:9092 \\\n",
    "                                               acks=all \\\n",
    "                              --topic test-topic \\\n",
    "                              --num-records 120000 \\\n",
    "                              --record-size   2048 \\\n",
    "                              --throughput    2000"
   ]
  },
  {
   "cell_type": "markdown",
   "id": "10a7d026",
   "metadata": {},
   "source": [
    "Now we change the broker setting ```replica.lag.time.max.ms```, reboot and run the same experiment again. This setting cannot be changed dynamically.\n"
   ]
  },
  {
   "cell_type": "code",
   "execution_count": null,
   "id": "2a474766-7b5f-4c93-8f7d-0d172ac3cefc",
   "metadata": {},
   "outputs": [],
   "source": [
    "! kafka-producer-perf-test.sh --producer-props bootstrap.servers=kafka1:9092 \\\n",
    "                                               acks=all \\\n",
    "                              --topic test-topic \\\n",
    "                              --num-records 120000 \\\n",
    "                              --record-size   2048 \\\n",
    "                              --throughput    2000"
   ]
  }
 ],
 "metadata": {
  "kernelspec": {
   "display_name": "Python 3 (ipykernel)",
   "language": "python",
   "name": "python3"
  },
  "language_info": {
   "codemirror_mode": {
    "name": "ipython",
    "version": 3
   },
   "file_extension": ".py",
   "mimetype": "text/x-python",
   "name": "python",
   "nbconvert_exporter": "python",
   "pygments_lexer": "ipython3",
   "version": "3.11.6"
  }
 },
 "nbformat": 4,
 "nbformat_minor": 5
}
