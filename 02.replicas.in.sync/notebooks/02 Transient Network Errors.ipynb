{
 "cells": [
  {
   "cell_type": "markdown",
   "id": "960cd1a7-2d48-4bd6-b9e8-65ede99acfe9",
   "metadata": {},
   "source": [
    "## Simulate a network with random latency"
   ]
  },
  {
   "cell_type": "markdown",
   "id": "1c51d431-562d-4279-ad02-a741d82b26d6",
   "metadata": {},
   "source": [
    "#### Add 200 - 300 ms latency to network on Kafka2"
   ]
  },
  {
   "cell_type": "markdown",
   "id": "f7911280-a868-4deb-898f-174ced903256",
   "metadata": {},
   "source": [
    "This needs to be run in your host environment that is running the docker containers\n",
    "```\n",
    "docker exec -u root \\\n",
    "  $(docker ps | grep kafka2 | awk '{print $1}') \\\n",
    "  tc qdisc add dev eth0 root netem delay 250ms 50ms distribution normal\n",
    "```"
   ]
  },
  {
   "cell_type": "code",
   "execution_count": null,
   "id": "63b9060a-e161-4a4d-a360-f4e5c4fc1d7a",
   "metadata": {},
   "outputs": [],
   "source": []
  }
 ],
 "metadata": {
  "kernelspec": {
   "display_name": "Python 3 (ipykernel)",
   "language": "python",
   "name": "python3"
  },
  "language_info": {
   "codemirror_mode": {
    "name": "ipython",
    "version": 3
   },
   "file_extension": ".py",
   "mimetype": "text/x-python",
   "name": "python",
   "nbconvert_exporter": "python",
   "pygments_lexer": "ipython3",
   "version": "3.11.6"
  }
 },
 "nbformat": 4,
 "nbformat_minor": 5
}
