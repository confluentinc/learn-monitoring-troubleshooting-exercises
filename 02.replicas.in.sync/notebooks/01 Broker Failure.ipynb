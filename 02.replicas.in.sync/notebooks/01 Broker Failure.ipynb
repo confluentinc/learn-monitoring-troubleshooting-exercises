{
 "cells": [
  {
   "cell_type": "markdown",
   "id": "d3bf59a1-0ce8-4ecc-80b4-38c8469ffdd3",
   "metadata": {},
   "source": [
    "## Impact of Broker failure"
   ]
  },
  {
   "cell_type": "markdown",
   "id": "77829ea5-99b1-4655-aa54-5b4c6fe541f9",
   "metadata": {},
   "source": [
    "#### See how the topics are currently set up. Leader, Replicas, ISRs"
   ]
  },
  {
   "cell_type": "code",
   "execution_count": null,
   "id": "e5b31b73-b120-4482-95d8-12cf451350e5",
   "metadata": {},
   "outputs": [],
   "source": [
    "! kafka-topics.sh --bootstrap-server=kafka1:9092 \\\n",
    "                  --describe"
   ]
  },
  {
   "cell_type": "markdown",
   "id": "c39586ca-3f66-4be2-bea9-335f42ec7bbf",
   "metadata": {},
   "source": [
    "#### Kill Broker 2"
   ]
  },
  {
   "cell_type": "markdown",
   "id": "d1c88c10-36d5-43af-8473-b6046d0daa0f",
   "metadata": {},
   "source": [
    "This needs to be run in your host environment that is running the docker containers\n",
    "```\n",
    "docker kill $(docker ps | grep kafka2 | awk '{print $1}')\n",
    "```"
   ]
  },
  {
   "cell_type": "markdown",
   "id": "2b8a1074-8562-4aa9-9113-371836d79992",
   "metadata": {},
   "source": [
    "#### See how the topics are changed. Leader, Replicas, ISRs"
   ]
  },
  {
   "cell_type": "code",
   "execution_count": null,
   "id": "c0c3037d-a737-4492-a7a1-0fdd9cccd96d",
   "metadata": {},
   "outputs": [],
   "source": [
    "! kafka-topics.sh --bootstrap-server=kafka1:9092 \\\n",
    "                  --describe"
   ]
  },
  {
   "cell_type": "markdown",
   "id": "c7e1f8b2-d22e-4ca6-9b68-a84a1ab8d3f0",
   "metadata": {},
   "source": [
    "Send a few records"
   ]
  },
  {
   "cell_type": "code",
   "execution_count": null,
   "id": "c8db0e5e-6700-4136-bb60-3b2149626d27",
   "metadata": {},
   "outputs": [],
   "source": [
    "! kafka-producer-perf-test.sh --producer-props bootstrap.servers=kafka1:9092 \\\n",
    "                                               acks=all \\\n",
    "                              --topic test-topic \\\n",
    "                              --num-records   10 \\\n",
    "                              --record-size 2048 \\\n",
    "                              --throughput    -1"
   ]
  },
  {
   "cell_type": "markdown",
   "id": "e3ae0939",
   "metadata": {},
   "source": [
    "However, our producer cannot produce since with ```acks=all``` we no longer have enough ISRs. Let's loosen it a bit."
   ]
  },
  {
   "cell_type": "code",
   "execution_count": null,
   "id": "159a58d2",
   "metadata": {},
   "outputs": [],
   "source": [
    "! kafka-configs.sh --bootstrap-server kafka1:9092 \\\n",
    "                   --entity-type topics \\\n",
    "                   --entity-name test-topic \\\n",
    "                   --alter \\\n",
    "                   --add-config min.insync.replicas=2\n",
    "\n",
    "! kafka-topics.sh --bootstrap-server=kafka1:9092 \\\n",
    "                  --describe"
   ]
  },
  {
   "cell_type": "code",
   "execution_count": null,
   "id": "0acddf99-93e3-4ce9-aa2a-88b7b24dfe15",
   "metadata": {},
   "outputs": [],
   "source": [
    "! kafka-producer-perf-test.sh --producer-props bootstrap.servers=kafka1:9092 \\\n",
    "                                               acks=all \\\n",
    "                              --topic test-topic \\\n",
    "                              --num-records   10 \\\n",
    "                              --record-size 2048 \\\n",
    "                              --throughput    -1"
   ]
  },
  {
   "cell_type": "markdown",
   "id": "d9d2ec02",
   "metadata": {},
   "source": [
    "#### Bring broker 2 back"
   ]
  },
  {
   "cell_type": "markdown",
   "id": "37a43c8b",
   "metadata": {},
   "source": [
    "This needs to be run in your host environment that is running the docker containers"
   ]
  },
  {
   "cell_type": "markdown",
   "id": "30059ad1",
   "metadata": {},
   "source": [
    "```docker compose up -d kafka2```"
   ]
  },
  {
   "cell_type": "code",
   "execution_count": null,
   "id": "5b8e1371",
   "metadata": {},
   "outputs": [],
   "source": [
    "! kafka-topics.sh --bootstrap-server=kafka1:9092 \\\n",
    "                  --describe"
   ]
  },
  {
   "cell_type": "markdown",
   "id": "83da01bc",
   "metadata": {},
   "source": [
    "Kafka's ```auto.leader.rebalance.enable``` is set to true, and ```leader.imbalance.check.interval.seconds``` is set to 5 minutes, the leaders balance out in a bit."
   ]
  },
  {
   "cell_type": "code",
   "execution_count": null,
   "id": "0cff19e6-44a6-4eef-9c1d-24e93955990f",
   "metadata": {},
   "outputs": [],
   "source": [
    "! kafka-topics.sh --bootstrap-server=kafka3:9092 \\\n",
    "                  --describe"
   ]
  },
  {
   "cell_type": "code",
   "execution_count": null,
   "id": "d859c125-9da5-485c-a111-4f12248dd298",
   "metadata": {},
   "outputs": [],
   "source": []
  }
 ],
 "metadata": {
  "kernelspec": {
   "display_name": "Python 3 (ipykernel)",
   "language": "python",
   "name": "python3"
  },
  "language_info": {
   "codemirror_mode": {
    "name": "ipython",
    "version": 3
   },
   "file_extension": ".py",
   "mimetype": "text/x-python",
   "name": "python",
   "nbconvert_exporter": "python",
   "pygments_lexer": "ipython3",
   "version": "3.11.6"
  }
 },
 "nbformat": 4,
 "nbformat_minor": 5
}
