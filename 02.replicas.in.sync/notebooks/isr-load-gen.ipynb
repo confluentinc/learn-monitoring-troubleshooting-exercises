{
 "cells": [
  {
   "cell_type": "markdown",
   "id": "b4f88417-1406-4b2b-a68e-32c7f8371fc5",
   "metadata": {},
   "source": [
    "## Rogue producer"
   ]
  },
  {
   "cell_type": "markdown",
   "id": "b356ec9b-b804-4d18-98bf-d4aa15a8f1db",
   "metadata": {},
   "source": [
    "Start the actual job, then run this about 10 seconds in"
   ]
  },
  {
   "cell_type": "code",
   "execution_count": null,
   "id": "695c4d0a-de1e-40fe-b397-7d989c8037bc",
   "metadata": {},
   "outputs": [],
   "source": [
    "! /opt/kafka_2.13-3.6.1/bin/kafka-producer-perf-test.sh --producer-props bootstrap.servers=kafka1:9092 \\\n",
    "                                                        --topic single-part-topic \\\n",
    "                                                        --num-records 10000  \\\n",
    "                                                        --record-size 8192 \\\n",
    "                                                        --throughput -1"
   ]
  }
 ],
 "metadata": {
  "kernelspec": {
   "display_name": "Python 3 (ipykernel)",
   "language": "python",
   "name": "python3"
  },
  "language_info": {
   "codemirror_mode": {
    "name": "ipython",
    "version": 3
   },
   "file_extension": ".py",
   "mimetype": "text/x-python",
   "name": "python",
   "nbconvert_exporter": "python",
   "pygments_lexer": "ipython3",
   "version": "3.11.6"
  }
 },
 "nbformat": 4,
 "nbformat_minor": 5
}
