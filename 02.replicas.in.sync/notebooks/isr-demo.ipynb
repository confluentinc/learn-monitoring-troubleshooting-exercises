{
 "cells": [
  {
   "cell_type": "markdown",
   "id": "325978f1-a72c-41e6-8c28-19d42ceb5960",
   "metadata": {},
   "source": [
    "## Setup"
   ]
  },
  {
   "cell_type": "markdown",
   "id": "4f11d082-a37c-4194-a6dc-761a5b2dff22",
   "metadata": {},
   "source": [
    "### Rogue Load Topic"
   ]
  },
  {
   "cell_type": "markdown",
   "id": "b0132882-5f78-4a0a-b8ba-82cb5556277f",
   "metadata": {},
   "source": [
    "Initial State of Kakfa Topics"
   ]
  },
  {
   "cell_type": "code",
   "execution_count": null,
   "id": "7b0a954e-52a0-41dd-96e9-40edc578e33c",
   "metadata": {},
   "outputs": [],
   "source": [
    "!/opt/kafka_2.13-3.6.1/bin/kafka-topics.sh --bootstrap-server=kafka1:9092 \\\n",
    "                                           --describe"
   ]
  },
  {
   "cell_type": "markdown",
   "id": "7a19804d-c74e-4856-92da-f474ee0ac5b0",
   "metadata": {},
   "source": [
    "Create our rogue topic with a single partition, and a single replica so we make only a single broker busy"
   ]
  },
  {
   "cell_type": "code",
   "execution_count": null,
   "id": "30f42676-5c79-41fb-8e56-e0a602e4889e",
   "metadata": {},
   "outputs": [],
   "source": [
    "!/opt/kafka_2.13-3.6.1/bin/kafka-topics.sh --bootstrap-server kafka3:9092 \\\n",
    "                                           --create \\\n",
    "                                           --topic single-part-topic \\\n",
    "                                           --partitions 1 \\\n",
    "                                           --replication-factor 1"
   ]
  },
  {
   "cell_type": "code",
   "execution_count": null,
   "id": "bdd64a61-8abc-4f29-9ef0-f48f637ca770",
   "metadata": {},
   "outputs": [],
   "source": [
    "!/opt/kafka_2.13-3.6.1/bin/kafka-topics.sh --bootstrap-server=kafka1:9092 \\\n",
    "                                           --describe"
   ]
  },
  {
   "cell_type": "markdown",
   "id": "797f7c0c-4e33-41b6-b9d3-ce44e624a5f5",
   "metadata": {},
   "source": [
    "Change the minimum ISRs for this topic to be 1 (at the topic level). Otherwise we cannot write to it given that replication is set to 1."
   ]
  },
  {
   "cell_type": "code",
   "execution_count": null,
   "id": "79b0305f-3f15-4883-a8b8-7cbf46a0c763",
   "metadata": {},
   "outputs": [],
   "source": [
    "!/opt/kafka_2.13-3.6.1/bin/kafka-configs.sh --bootstrap-server kafka1:9092 \\\n",
    "                                            --entity-type topics \\\n",
    "                                            --entity-name single-part-topic \\\n",
    "                                            --alter \\\n",
    "                                            --add-config min.insync.replicas=1"
   ]
  },
  {
   "cell_type": "code",
   "execution_count": null,
   "id": "1af86656-7de6-4dda-9494-18ee83db6fa8",
   "metadata": {},
   "outputs": [],
   "source": [
    "!/opt/kafka_2.13-3.6.1/bin/kafka-topics.sh --bootstrap-server=kafka1:9092 \\\n",
    "                                           --describe"
   ]
  },
  {
   "cell_type": "markdown",
   "id": "5e1573b7-1b5d-4264-9652-39980bcdc5bc",
   "metadata": {},
   "source": [
    "### Create the normal traffic topic"
   ]
  },
  {
   "cell_type": "code",
   "execution_count": null,
   "id": "f3690fe6-522a-4f38-b5ea-43cf5c923a6d",
   "metadata": {},
   "outputs": [],
   "source": [
    "!/opt/kafka_2.13-3.6.1/bin/kafka-topics.sh --bootstrap-server kafka3:9092 \\\n",
    "                                           --create \\\n",
    "                                           --topic test-topic "
   ]
  },
  {
   "cell_type": "markdown",
   "id": "d44de61c-0016-44b3-b45b-690e7d28e4ca",
   "metadata": {},
   "source": [
    "## Traffic"
   ]
  },
  {
   "cell_type": "markdown",
   "id": "312b3d80-f488-4d1d-b849-7d6887a06cf2",
   "metadata": {},
   "source": [
    "Start sending messages; 90k messages at about 3k/s should run about 30s"
   ]
  },
  {
   "cell_type": "code",
   "execution_count": null,
   "id": "b5dfbf56-3cb3-4ffb-ac29-3f7eb20fd254",
   "metadata": {},
   "outputs": [],
   "source": [
    "! /opt/kafka_2.13-3.6.1/bin/kafka-producer-perf-test.sh --producer-props bootstrap.servers=kafka1:9092 \\\n",
    "                                                        --topic test-topic \\\n",
    "                                                        --num-records 90000  \\\n",
    "                                                        --record-size  8192 \\\n",
    "                                                        --throughput 3000"
   ]
  }
 ],
 "metadata": {
  "kernelspec": {
   "display_name": "Python 3 (ipykernel)",
   "language": "python",
   "name": "python3"
  },
  "language_info": {
   "codemirror_mode": {
    "name": "ipython",
    "version": 3
   },
   "file_extension": ".py",
   "mimetype": "text/x-python",
   "name": "python",
   "nbconvert_exporter": "python",
   "pygments_lexer": "ipython3",
   "version": "3.11.6"
  }
 },
 "nbformat": 4,
 "nbformat_minor": 5
}
