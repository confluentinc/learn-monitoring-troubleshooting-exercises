{
 "cells": [
  {
   "cell_type": "markdown",
   "id": "960cd1a7-2d48-4bd6-b9e8-65ede99acfe9",
   "metadata": {},
   "source": [
    "## Simulate a network with random latency"
   ]
  },
  {
   "cell_type": "markdown",
   "id": "1c51d431-562d-4279-ad02-a741d82b26d6",
   "metadata": {},
   "source": [
    "#### Add 200 - 300 ms latency to network on Kafka2"
   ]
  },
  {
   "cell_type": "markdown",
   "id": "f7911280-a868-4deb-898f-174ced903256",
   "metadata": {},
   "source": [
    "This needs to be run in your host environment that is running the docker containers\n",
    "```\n",
    "docker exec -u root \\\n",
    "  $(docker ps | grep kafka2 | awk '{print $1}') \\\n",
    "  tc qdisc add dev eth1 root netem delay 250ms 50ms distribution normal\n",
    "```"
   ]
  },
  {
   "cell_type": "markdown",
   "id": "9cee85ed-332c-49f2-a5ec-8921072f619c",
   "metadata": {},
   "source": [
    "#### Run the same traffic and check metrics and logs"
   ]
  },
  {
   "cell_type": "code",
   "execution_count": null,
   "id": "665ae892-c990-4db4-a3e4-11d3327f0b47",
   "metadata": {},
   "outputs": [],
   "source": [
    "! kafka-producer-perf-test.sh --producer-props bootstrap.servers=kafka1:9092 \\\n",
    "                              --topic test-topic \\\n",
    "                              --num-records 600000  \\\n",
    "                              --record-size  8192 \\\n",
    "                              --throughput 2000"
   ]
  }
 ],
 "metadata": {
  "kernelspec": {
   "display_name": "Python 3 (ipykernel)",
   "language": "python",
   "name": "python3"
  },
  "language_info": {
   "codemirror_mode": {
    "name": "ipython",
    "version": 3
   },
   "file_extension": ".py",
   "mimetype": "text/x-python",
   "name": "python",
   "nbconvert_exporter": "python",
   "pygments_lexer": "ipython3",
   "version": "3.11.6"
  }
 },
 "nbformat": 4,
 "nbformat_minor": 5
}
