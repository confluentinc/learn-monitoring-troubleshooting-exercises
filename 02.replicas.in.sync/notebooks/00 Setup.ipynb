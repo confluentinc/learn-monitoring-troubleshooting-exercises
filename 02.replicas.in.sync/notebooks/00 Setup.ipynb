{
 "cells": [
  {
   "cell_type": "markdown",
   "id": "c7eccb46-0cdf-4ced-b4c2-f1313e74cb90",
   "metadata": {},
   "source": [
    "### Setup"
   ]
  },
  {
   "cell_type": "markdown",
   "id": "3faa251e-1f7b-49dc-961a-740fb9e34fd6",
   "metadata": {},
   "source": [
    "#### Create test topic"
   ]
  },
  {
   "cell_type": "markdown",
   "id": "8e2273c5-c799-4fed-90a4-dbe1d6d9fc2e",
   "metadata": {},
   "source": [
    "Check that this is a clean start with no topics. Then create a topic with the given config"
   ]
  },
  {
   "cell_type": "code",
   "execution_count": null,
   "id": "35e7e5b3-02ed-43dc-8de2-188ff8fc08c6",
   "metadata": {},
   "outputs": [],
   "source": [
    "! kafka-topics.sh --bootstrap-server=kafka1:9092 \\\n",
    "                  --describe"
   ]
  },
  {
   "cell_type": "code",
   "execution_count": null,
   "id": "d99113d7-f6ed-43c7-93e3-ac7062e4be47",
   "metadata": {},
   "outputs": [],
   "source": [
    "! kafka-topics.sh --bootstrap-server kafka1:9092 \\\n",
    "                  --create \\\n",
    "                  --topic test-topic \\\n",
    "                  --partitions 3 \\\n",
    "                  --replication-factor 3 \\\n",
    "                  --config min.insync.replicas=2"
   ]
  },
  {
   "cell_type": "code",
   "execution_count": null,
   "id": "48ec5bcd-b10a-46f3-be91-8cd20fa1e5a0",
   "metadata": {},
   "outputs": [],
   "source": [
    "! kafka-topics.sh --bootstrap-server=kafka1:9092 \\\n",
    "                  --describe"
   ]
  },
  {
   "cell_type": "markdown",
   "id": "498b8971-82ed-4f6e-8843-f4ef87810295",
   "metadata": {},
   "source": [
    "#### Execute normal traffic\n",
    "This sends 2K size messages at a rate of 2000/s for 5 minutes. Enough to test out our situations."
   ]
  },
  {
   "cell_type": "code",
   "execution_count": null,
   "id": "0b7609e0-d020-494c-bc72-b29e4f7a131c",
   "metadata": {},
   "outputs": [],
   "source": [
    "! kafka-producer-perf-test.sh --producer-props bootstrap.servers=kafka1:9092 \\\n",
    "                                               acks=all \\\n",
    "                              --topic test-topic \\\n",
    "                              --num-records 600000  \\\n",
    "                              --record-size   2048 \\\n",
    "                              --throughput    2000"
   ]
  },
  {
   "cell_type": "code",
   "execution_count": null,
   "id": "b00e9e0d-362f-476f-87cd-e5047bf848dd",
   "metadata": {},
   "outputs": [],
   "source": []
  }
 ],
 "metadata": {
  "kernelspec": {
   "display_name": "Python 3 (ipykernel)",
   "language": "python",
   "name": "python3"
  },
  "language_info": {
   "codemirror_mode": {
    "name": "ipython",
    "version": 3
   },
   "file_extension": ".py",
   "mimetype": "text/x-python",
   "name": "python",
   "nbconvert_exporter": "python",
   "pygments_lexer": "ipython3",
   "version": "3.11.6"
  }
 },
 "nbformat": 4,
 "nbformat_minor": 5
}
