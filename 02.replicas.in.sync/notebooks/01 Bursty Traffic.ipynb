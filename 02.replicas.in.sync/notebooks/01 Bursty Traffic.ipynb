{
 "cells": [
  {
   "cell_type": "markdown",
   "id": "12f1d048-7190-4bfb-a002-665ea626fd2a",
   "metadata": {},
   "source": [
    "#### Create our rogue topic with a single partition, and a single replica so we make only a single broker busy"
   ]
  },
  {
   "cell_type": "code",
   "execution_count": null,
   "id": "84b5a8ba-6c54-43fc-a8ca-90c225c1d6e5",
   "metadata": {},
   "outputs": [],
   "source": [
    "! kafka-topics.sh --bootstrap-server kafka2:9092 \\\n",
    "                  --create \\\n",
    "                  --topic single-part-topic \\\n",
    "                  --partitions 1 \\\n",
    "                  --replication-factor 1\n",
    "                                               \n",
    "! kafka-topics.sh --bootstrap-server=kafka1:9092 \\\n",
    "                  --describe"
   ]
  },
  {
   "cell_type": "markdown",
   "id": "f9a2d7cc-98ba-4b12-962e-f6c3ddeb1ced",
   "metadata": {},
   "source": [
    "#### Change the minimum ISRs for this topic to be 1 (at the topic level). Otherwise we cannot write to it given that replication is set to 1."
   ]
  },
  {
   "cell_type": "code",
   "execution_count": null,
   "id": "3b820821-d560-4f03-8657-188aae915095",
   "metadata": {},
   "outputs": [],
   "source": [
    "! kafka-configs.sh --bootstrap-server kafka1:9092 \\\n",
    "                   --entity-type topics \\\n",
    "                   --entity-name single-part-topic \\\n",
    "                   --alter \\\n",
    "                   --add-config min.insync.replicas=1\n",
    "\n",
    "! kafka-topics.sh --bootstrap-server=kafka1:9092 \\\n",
    "                  --describe"
   ]
  },
  {
   "cell_type": "markdown",
   "id": "1efd9f2c-6b86-423f-9e19-5f29f052791a",
   "metadata": {},
   "source": [
    "#### Send a burst"
   ]
  },
  {
   "cell_type": "code",
   "execution_count": null,
   "id": "9a47eff6-d74e-4472-a426-69db8fa0435b",
   "metadata": {},
   "outputs": [],
   "source": [
    "!  kafka-producer-perf-test.sh --producer-props bootstrap.servers=kafka1:9092 \\\n",
    "                               --topic test-topic \\\n",
    "                               --num-records 100000  \\\n",
    "                               --record-size  8192 \\\n",
    "                               --throughput -1"
   ]
  }
 ],
 "metadata": {
  "kernelspec": {
   "display_name": "Python 3 (ipykernel)",
   "language": "python",
   "name": "python3"
  },
  "language_info": {
   "codemirror_mode": {
    "name": "ipython",
    "version": 3
   },
   "file_extension": ".py",
   "mimetype": "text/x-python",
   "name": "python",
   "nbconvert_exporter": "python",
   "pygments_lexer": "ipython3",
   "version": "3.11.6"
  }
 },
 "nbformat": 4,
 "nbformat_minor": 5
}
